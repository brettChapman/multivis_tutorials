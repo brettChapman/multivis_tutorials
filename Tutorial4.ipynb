{
 "cells": [
  {
   "cell_type": "markdown",
   "metadata": {},
   "source": [
    "<div style=\"text-align: justify; padding:5px; background-color:rgb(252, 253, 255); border: 1px solid lightgrey; padding-left: 1em; padding-right: 1em;\">\n",
    "    <font color='red'>Mini Jupyter tutorial<br><br>To run each cell, click the cell and press <kbd>Run</kbd> from the menu bar. This will run any Python code or display any text within the selected cell before highlighting the next cell down. There are two types of cell: A <i>text cell</i> of type <kbd>Markdown</kbd> or <kbd>Heading</kbd> and a <i>code cell</i> of type <kbd>Code</kbd> identifiable with the <span style=\"font-family: courier; color:black; background-color:white;\">In[ ]:</span> to the left of the cell</i>. The type of cell is also identifiable from the dropdown menu in the above menu bar to the right of <kbd>Run</kbd>. Any visual results produced by the code (text/figures) are displayed directly below that cell. Press <kbd>Run</kbd> again until you reach the end of the notebook or alternatively click <kbd>Kernel</kbd><font color='black'>→</font><kbd>Restart and Run All</kbd>. Should the Jupyter notebook crash for any reason, restart the Jupyter Kernel by clicking <kbd>Kernel</kbd><font color='black'>→</font><kbd>Restart</kbd>, and start again from the top.\n",
    "        \n",
    "</div>"
   ]
  },
  {
   "cell_type": "markdown",
   "metadata": {},
   "source": [
    "# Tutorial 4: Metabolomics Hierarchical Edge Bundle\n",
    "\n",
    "<p style=\"text-align: justify\">\n",
    "<br><br>\n",
    "This tutorial covers the necessary steps for producting a Hierarchical Edge Bundle.\n",
    "</p>"
   ]
  },
  {
   "cell_type": "markdown",
   "metadata": {},
   "source": [
    "<div style=\"text-align: justify; padding:5px; background-color:rgb(252, 253, 255); border: 1px solid lightgrey; padding-left: 1em; padding-right: 1em;\">\n",
    "    <font color='red', size=4>Disclaimer: It is assumed that any data used with this workflow has been cleaned and any missing values either removed or imputed, as this workflow does not perform data cleaning or missing value removal/imputation. \n",
    "</div>"
   ]
  },
  {
   "cell_type": "markdown",
   "metadata": {},
   "source": [
    "<div style=\"background-color:rgb(255, 250, 250); padding:2px; padding-left: 1em; padding-right: 1em;\">\n",
    "    \n",
    "<h2 id=\"1importpackagesmodules\" style=\"text-align: justify\">1. Import Packages/Modules</h2>\n",
    "\n",
    "<p style=\"text-align: justify\">The first code cell of this tutorial imports <a href=\"https://docs.python.org/3/tutorial/modules.html\"><em>packages</em> and <em>modules</em></a> into the Jupyter environment. <em>Packages</em> and <em>modules</em> provide additional functions and tools beyond the in-built Python modules.\n",
    "<br></p>\n",
    "<br>\n",
    "All the code embedded in this notebook is written using Python (<a href=\"http://www.python.org\">python.org</a>) and JavaScript (<a href=\"https://www.javascript.com/\">javascript.com</a>) and are built upon popular open source packages such as Networkx (<a href=\"https://networkx.github.io/\">networkx.github.io</a>), NumPy (<a href=\"https://numpy.org/\">numpy.org</a>), SciPy (<a href=\"https://www.scipy.org/\">scipy.org</a>), Matplotlib (<a href=\"https://matplotlib.org/\">matplotlib.org</a>), Pandas (<a href=\"https://pandas.pydata.org/\">pandas.pydata.org</a>) and D3 JavaScript (<a href=\"https://d3js.org/\">d3js.org</a>).\n",
    "    \n",
    "<em>Note:</em> a tutorial focusing on the python programming language is beyond the scope of this notebook. To learn how to program in Python with Jupyter Notebook please refer to: \n",
    "<a href=\"https://mybinder.org/v2/gh/jakevdp/PythonDataScienceHandbook/master?filepath=notebooks%2FIndex.ipynb\">Python Data Science Handbook (Jake VanderPlas, 2016)</a>."
   ]
  },
  {
   "cell_type": "code",
   "execution_count": 1,
   "metadata": {},
   "outputs": [
    {
     "name": "stdout",
     "output_type": "stream",
     "text": [
      "All packages successfully loaded\n"
     ]
    }
   ],
   "source": [
    "import os\n",
    "    \n",
    "from beakerx.object import beakerx \n",
    "beakerx.pandas_display_table() # by default display pandas tables as BeakerX interactive tables\n",
    "\n",
    "home = os.getcwd() + \"/\"\n",
    "\n",
    "import numpy as np\n",
    "import pandas as pd\n",
    "from IPython.display import IFrame,HTML\n",
    "import multivis\n",
    "print('All packages successfully loaded')\n",
    "\n",
    "%load_ext autoreload\n",
    "%autoreload 2"
   ]
  },
  {
   "cell_type": "markdown",
   "metadata": {},
   "source": [
    "<div style=\"background-color:rgb(255, 250, 250); padding:5px; padding-left: 1em; padding-right: 1em;\">\n",
    "\n",
    "<h2 style=\"text-align: justify\">2. Load Data and Peak sheet</h2>\n",
    "\n",
    "<p style=\"text-align: justify\">The code cell below loads the <em>Data</em> and <em>Peak</em> sheets from an Excel file using <code>loadData()</code>. When this is complete, you should see confirmation that Peak (the Peak worksheet) and Data (the Data worksheet) tables have been loaded.<br><br>\n",
    "\n",
    "This dataset has previously been published in (<a href=\"https://physoc.onlinelibrary.wiley.com/doi/full/10.1113/EP087159\">Lawler et al. (2018)</a>) in <i>Experimental Physiolgy</i> and has been put into a standardised <a href=\"https://en.wikipedia.org/wiki/Tidy_data\">Tidy Data</a> format.\n",
    "</p>\n",
    "    \n",
    "Further information on the publication with a link to the data repository can be found here: Project ID <a href=\"XXX\">XXX</a>). \n",
    "\n",
    "Please inspect the <a href=\"Data.xlsx\">Excel file</a> before using it in this tutorial to understadn its structure. To change the dataset to be loaded into the notebook replace <code>filename = 'Data.xlsx'</code> with another file with the same <a href=\"https://en.wikipedia.org/wiki/Tidy_data\">Tidy Data</a> format as <a href=\"Data.xlsx\">Data.xlsx</a>, and then rerun the workflow.\n",
    "\n",
    "Note: To the Peak sheet a \"Color\" column has been added which represents \"Red\" for upregulation at D14 or \"Blue\" for downregulation at D14. Also a \"Block\" column has been added to reflect separation of metabolites in different ionisation modes to be used with HEB plots.\n",
    "\n",
    "</div></div>"
   ]
  },
  {
   "cell_type": "code",
   "execution_count": 2,
   "metadata": {},
   "outputs": [
    {
     "name": "stdout",
     "output_type": "stream",
     "text": [
      "Loading sheet: Peak\n",
      "Loading sheet: Data\n",
      "TOTAL SAMPLES: 29 TOTAL PEAKS: 200\n",
      "Done!\n"
     ]
    }
   ],
   "source": [
    "file = 'Data.xlsx'\n",
    "\n",
    "DataTable,PeakTable = multivis.utils.loadData(home + file, DataSheet='Data', PeakSheet='Peak')"
   ]
  },
  {
   "cell_type": "markdown",
   "metadata": {},
   "source": [
    "<div style=\"background-color:rgb(255, 250, 250); padding:5px;  border: 1px solid lightgrey; padding-left: 1em; padding-right: 1em;\">\n",
    "\n",
    "### Display the Data sheet\n",
    "\n",
    "Using the <b>BeakerX</b> package we can interactively view and check the imported Data table simply by calling the function <span style=\"font-family: monaco; font-size: 14px; background-color:white;\">display(DataTable)</span><br>\n",
    "</div>"
   ]
  },
  {
   "cell_type": "code",
   "execution_count": 3,
   "metadata": {},
   "outputs": [
    {
     "data": {
      "application/vnd.jupyter.widget-view+json": {
       "model_id": "bf9f5e1850664eba85d5f2195512a50e",
       "version_major": 2,
       "version_minor": 0
      }
     },
     "metadata": {},
     "output_type": "display_data"
    }
   ],
   "source": [
    "display(DataTable)"
   ]
  },
  {
   "cell_type": "markdown",
   "metadata": {},
   "source": [
    "<div style=\"background-color:rgb(255, 250, 250); padding:5px;  border: 1px solid lightgrey; padding-left: 1em; padding-right: 1em;\">\n",
    "\n",
    "### Display the Peak sheet\n",
    "\n",
    "Using the <b>BeakerX</b> package we can interactively view and check the imported Peak table  simply by calling the function <span style=\"font-family: monaco; font-size: 14px; background-color:white;\">display(PeakTable)</span><br>\n",
    "</div>"
   ]
  },
  {
   "cell_type": "code",
   "execution_count": 4,
   "metadata": {},
   "outputs": [
    {
     "data": {
      "application/vnd.jupyter.widget-view+json": {
       "model_id": "fd88003835ee4a1ba44557024642f7a3",
       "version_major": 2,
       "version_minor": 0
      }
     },
     "metadata": {},
     "output_type": "display_data"
    }
   ],
   "source": [
    "display(PeakTable)"
   ]
  },
  {
   "cell_type": "markdown",
   "metadata": {},
   "source": [
    "<div style=\"background-color:rgb(255, 250, 250); padding:10px;  border: 1px solid lightgrey; padding-left: 1em; padding-right: 1em;\">\n",
    "\n",
    "## 4. Log transform\n",
    "\n",
    "Transformation can be done with a log which is commonly used for biological data types, however there are other types such as square, square root, cube root or reciprocal transformation, which may be suitable for other types of data. In this case as a parametric Pearson correlation is performed next, a log is necessary to normally distribute the data, however, if a non-parametric method was used, such as Spearman or Kendall's Tau, then log is not necessary. Additionally, also in this case no scaling is necessary after log transformation, as correlation analysis in the following step, requiring no scaling, as individual pairs of values are compared in the bivariate correlation analysis, unlike with PCA in tutorial 1, which performs multivariate analysis across all values simultaneously. However, if another similarity metric were to be used in place of correlation, such as Euclidean distance, then scaling would be a necessary step to take.\n",
    "\n",
    "</div>"
   ]
  },
  {
   "cell_type": "code",
   "execution_count": 5,
   "metadata": {},
   "outputs": [],
   "source": [
    "# Extract and scale the metabolite data from the DataTable \n",
    "\n",
    "peaklist = PeakTable['Name']                   # Set peaklist to the metabolite names in the DataTableClean\n",
    "X = DataTable[peaklist].values                           # Extract X matrix from DataTable using peaklist\n",
    "Xlog = np.log10(X)                                  # Log transform (base-10)\n",
    "#Xscale = scaler.fit_transform(Xlog)                # Scale to unit variance (not necessary if later performing correlation analysis)\n",
    "\n",
    "#X_data = pd.merge(DataTable.T[~DataTable.T.index.isin(PeakTable['Name'])].T.reset_index(drop=True), pd.DataFrame(Xlog, columns=peaklist), left_index=True, right_index=True)\n",
    "\n",
    "X_data = pd.DataFrame(Xlog, columns=peaklist)"
   ]
  },
  {
   "cell_type": "markdown",
   "metadata": {},
   "source": [
    "<div style=\"background-color:rgb(255, 250, 250); padding:10px;  border: 1px solid lightgrey; padding-left: 1em; padding-right: 1em;\">\n",
    "\n",
    "## 5. Correlation analysis\n",
    "\n",
    "Performs pearson or spearman correlation analysis\n",
    "\n",
    "</div>"
   ]
  },
  {
   "cell_type": "code",
   "execution_count": 6,
   "metadata": {},
   "outputs": [
    {
     "name": "stderr",
     "output_type": "stream",
     "text": [
      "100%|██████████| 200/200 [00:03<00:00, 68.40it/s]\n"
     ]
    }
   ],
   "source": [
    "correlationType = \"pearson\"; #\"pearson\"\n",
    "\n",
    "X = X_data[PeakTable['Name']]\n",
    "\n",
    "ScoreBlocks,PvalueBlocks = multivis.utils.corrAnalysis(X, correlationType)"
   ]
  },
  {
   "cell_type": "markdown",
   "metadata": {},
   "source": [
    "<div style=\"background-color:rgb(255, 250, 250); padding:10px;  border: 1px solid lightgrey; padding-left: 1em; padding-right: 1em;\">\n",
    "\n",
    "## 6.  Generate Edges\n",
    "\n",
    "The correlation data is filtered and placed in a network of edges\n",
    "\n",
    "</div>"
   ]
  },
  {
   "cell_type": "code",
   "execution_count": 9,
   "metadata": {},
   "outputs": [],
   "source": [
    "networkEdges = multivis.Edge(peaktable=PeakTable, scores=ScoreBlocks, pvalues=PvalueBlocks)\n",
    "\n",
    "params = dict({'filterScoreType': 'Pvalue', 'hard_threshold': 0.05, 'sign': \"both\"})\n",
    "\n",
    "networkEdges.set_params(**params)\n",
    "\n",
    "networkEdges.run()\n",
    "\n",
    "edges = networkEdges.getEdges()"
   ]
  },
  {
   "cell_type": "markdown",
   "metadata": {},
   "source": [
    "<div style=\"background-color:rgb(255, 250, 250); padding:5px;  border: 1px solid lightgrey; padding-left: 1em; padding-right: 1em;\">\n",
    "\n",
    "### Display edge data used in the Hierarchical Edge Bundle\n",
    "\n",
    "Using the <b>BeakerX</b> package we can interactively view and check the edge data simply by calling the function <span style=\"font-family: monaco; font-size: 14px; background-color:white;\">display(edges)</span><br>\n",
    "</div>"
   ]
  },
  {
   "cell_type": "code",
   "execution_count": 10,
   "metadata": {},
   "outputs": [
    {
     "data": {
      "application/vnd.jupyter.widget-view+json": {
       "model_id": "f55725e600be4f43b614cc1b879e36cb",
       "version_major": 2,
       "version_minor": 0
      }
     },
     "metadata": {},
     "output_type": "display_data"
    }
   ],
   "source": [
    "display(edges)"
   ]
  },
  {
   "cell_type": "markdown",
   "metadata": {},
   "source": [
    "<div style=\"background-color:rgb(255, 250, 250); padding:10px;  border: 1px solid lightgrey; padding-left: 1em; padding-right: 1em;\">\n",
    "\n",
    "## 7.  Sort edges\n",
    "\n",
    "Sort the edges for visualisation preference\n",
    "\n",
    "</div>"
   ]
  },
  {
   "cell_type": "code",
   "execution_count": 11,
   "metadata": {},
   "outputs": [],
   "source": [
    "#edges.sort_values(['start_index', 'end_index'], inplace=True, ascending=True)\n",
    "#edges.sort_values('Pval', inplace=True, ascending=False)\n",
    "edges.sort_values('Score', inplace=True, ascending=False)"
   ]
  },
  {
   "cell_type": "markdown",
   "metadata": {},
   "source": [
    "<div style=\"background-color:rgb(255, 250, 250); padding:10px;  border: 1px solid lightgrey; padding-left: 1em; padding-right: 1em;\">\n",
    "\n",
    "## 8.  Plot Hierarchical edge bundle\n",
    "\n",
    "The edges from the network structure are then used to generate a Hierarchical edge bundle in D3 JavaScript and embedded in HTML for interactive visualisation\n",
    "\n",
    "</div>"
   ]
  },
  {
   "cell_type": "code",
   "execution_count": 12,
   "metadata": {},
   "outputs": [
    {
     "data": {
      "text/html": [
       "\n",
       "        <iframe\n",
       "            width=\"1340\"\n",
       "            height=\"1250\"\n",
       "            src=\"hEdgeBundle_AltitudeStudy.html\"\n",
       "            frameborder=\"0\"\n",
       "            allowfullscreen\n",
       "        ></iframe>\n",
       "        "
      ],
      "text/plain": [
       "<IPython.lib.display.IFrame at 0x1a1f2c0278>"
      ]
     },
     "execution_count": 12,
     "metadata": {},
     "output_type": "execute_result"
    }
   ],
   "source": [
    "html_file = 'hEdgeBundle_AltitudeStudy.html';\n",
    "\n",
    "#params = dict({'diameter': 960, 'innerRadiusOffset': 140, 'linkFadeOpacity': 0.01, 'fontSize': 10\n",
    "#               , 'backgroundColor': 'white', 'foregroundColor': 'black', 'filterOffSet': -40, 'color_scale': 'Score', 'edge_cmap': 'brg'})\n",
    "\n",
    "params = dict({'diameter': 960, 'innerRadiusOffset': 120, 'groupSeparation': 5, 'linkFadeOpacity': 0.01, 'mouseOver': True, 'fontSize': 10\n",
    "               , 'backgroundColor': 'white', 'foregroundColor': 'black', 'filterOffSet': 15, 'color_scale': 'Score', 'edge_cmap': 'brg'})\n",
    "\n",
    "bundle = multivis.edgeBundle(edges)\n",
    "\n",
    "bundle.set_params(**params)\n",
    "\n",
    "html = HTML(bundle.run()).data\n",
    "\n",
    "with open(home + html_file, 'w') as f:\n",
    "    f.write(html)\n",
    "\n",
    "IFrame(html_file, width=1340, height=1250)"
   ]
  },
  {
   "cell_type": "code",
   "execution_count": null,
   "metadata": {},
   "outputs": [],
   "source": []
  },
  {
   "cell_type": "code",
   "execution_count": null,
   "metadata": {},
   "outputs": [],
   "source": []
  }
 ],
 "metadata": {
  "kernelspec": {
   "display_name": "Python 3",
   "language": "python",
   "name": "python3"
  },
  "language_info": {
   "codemirror_mode": {
    "name": "ipython",
    "version": 3
   },
   "file_extension": ".py",
   "mimetype": "text/x-python",
   "name": "python",
   "nbconvert_exporter": "python",
   "pygments_lexer": "ipython3",
   "version": "3.7.2"
  },
  "toc": {
   "base_numbering": 1,
   "nav_menu": {},
   "number_sections": false,
   "sideBar": false,
   "skip_h1_title": false,
   "title_cell": "Table of Contents",
   "title_sidebar": "Contents",
   "toc_cell": false,
   "toc_position": {},
   "toc_section_display": false,
   "toc_window_display": false
  }
 },
 "nbformat": 4,
 "nbformat_minor": 2
}
